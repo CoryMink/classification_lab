{
 "cells": [
  {
   "cell_type": "markdown",
   "id": "e5e043b2",
   "metadata": {},
   "source": [
    "## Week 4, Lab 1: Predicting Left-Handedness from Psychological Factors\n",
    "> Author: Matt Brems\n",
    "\n",
    "One way to define the data science process is as follows:\n",
    "\n",
    "1. Define the problem.\n",
    "2. Obtain the data.\n",
    "3. Explore the data.\n",
    "4. Model the data.\n",
    "5. Evaluate the model.\n",
    "6. Answer the problem.\n",
    "\n",
    "We'll walk through a full data science problem in this lab. \n",
    "\n",
    "---\n",
    "## Define The Problem.\n",
    "\n",
    "You're currently a data scientist working at a university. A professor of psychology is attempting to study the relationship between personalities and left-handedness. They have tasked you with gathering evidence so that they may publish.\n",
    "\n",
    "As a data scientist, you know that any real data science problem must be **specific** and **conclusively answerable**. For example:\n",
    "- Bad data science problem: \"What is the link between obesity and blood pressure?\"\n",
    "    - This is vague and is not conclusively answerable. That is, two people might look at the conclusion and one may say \"Sure, the problem has been answered!\" and the other may say \"The problem has not yet been answered.\"\n",
    "- Good data science problem: \"Does an association exist between obesity and blood pressure?\"\n",
    "    - This is more specific and is conclusively answerable. The problem specifically is asking for a \"Yes\" or \"No\" answer. Based on that, two independent people should both be able to say either \"Yes, the problem has been answered\" or \"No, the problem has not yet been answered.\"\n",
    "- Excellent data science problem: \"As obesity increases, how does blood pressure change?\"\n",
    "    - This is very specific and is conclusively answerable. The problem specifically seeks to understand the effect of one variable on the other.\n",
    "\n",
    "### In the context of the left-handedness and personality example, what are three specific and conclusively answerable problems that you could answer using data science? \n",
    "\n",
    "> You might find it helpful to check out the codebook in the repo for some inspiration."
   ]
  },
  {
   "cell_type": "markdown",
   "id": "1f190051",
   "metadata": {},
   "source": [
    "<b>Problem Statment:</b> lefthandedness might correlated with extrovert personalities </b>"
   ]
  },
  {
   "cell_type": "markdown",
   "id": "32144652",
   "metadata": {},
   "source": [
    "---\n",
    "## Step 2: Obtain the data.\n",
    "\n",
    "### Read in the file titled \"data.csv\":\n",
    "> Hint: Despite being saved as a .csv file, you won't be able to simply `pd.read_csv()` this data!"
   ]
  },
  {
   "cell_type": "code",
   "execution_count": 6,
   "id": "2a154e91",
   "metadata": {},
   "outputs": [],
   "source": [
    "# library imports\n",
    "import pandas as pd\n",
    "import numpy as np\n",
    "import seaborn as sns\n",
    "import matplotlib.pyplot as plt\n",
    "\n",
    "from sklearn.model_selection import train_test_split\n",
    "from sklearn.neighbors import KNeighborsClassifier\n",
    "from sklearn.preprocessing import StandardScaler\n",
    "from sklearn.linear_model import LogisticRegression"
   ]
  },
  {
   "cell_type": "code",
   "execution_count": 7,
   "id": "1e730059",
   "metadata": {},
   "outputs": [],
   "source": [
    "df = pd.read_csv('data.csv', sep = '\\t')\n",
    "df.columns = df.columns.str.lower().str.replace(' ', '_')"
   ]
  },
  {
   "cell_type": "markdown",
   "id": "50b55b21",
   "metadata": {},
   "source": [
    "---\n",
    "\n",
    "## Step 3: Explore the data.\n",
    "\n",
    "### Conduct background research:\n",
    "\n",
    "Domain knowledge is irreplaceable. Figuring out what information is relevant to a problem, or what data would be useful to gather, is a major part of any end-to-end data science project! For this lab, you'll be using a dataset that someone else has put together, rather than collecting the data yourself.\n",
    "\n",
    "Do some background research about personality and handedness. What features, if any, are likely to help you make good predictions? How well do you think you'll be able to model this? Write a few bullet points summarizing what you believe, and remember to cite external sources.\n",
    "\n",
    "You don't have to be exhaustive here. Do enough research to form an opinion, and then move on.\n",
    "\n",
    "> You'll be using the answers to Q1-Q44 for modeling; you can disregard other features, e.g. country, age, internet browser."
   ]
  },
  {
   "cell_type": "code",
   "execution_count": null,
   "id": "ac5eff1f",
   "metadata": {},
   "outputs": [],
   "source": []
  },
  {
   "cell_type": "markdown",
   "id": "3adf0649",
   "metadata": {},
   "source": [
    "### Conduct exploratory data analysis on this dataset:\n",
    "\n",
    "If you haven't already, be sure to check out the codebook in the repo, as that will help in your EDA process.\n",
    "\n",
    "You might use this section to perform data cleaning if you find it to be necessary."
   ]
  },
  {
   "cell_type": "code",
   "execution_count": 8,
   "id": "0dfaf7ef",
   "metadata": {},
   "outputs": [
    {
     "data": {
      "text/plain": [
       "((4184, 56),\n",
       " q1              int64\n",
       " q2              int64\n",
       " q3              int64\n",
       " q4              int64\n",
       " q5              int64\n",
       " q6              int64\n",
       " q7              int64\n",
       " q8              int64\n",
       " q9              int64\n",
       " q10             int64\n",
       " q11             int64\n",
       " q12             int64\n",
       " q13             int64\n",
       " q14             int64\n",
       " q15             int64\n",
       " q16             int64\n",
       " q17             int64\n",
       " q18             int64\n",
       " q19             int64\n",
       " q20             int64\n",
       " q21             int64\n",
       " q22             int64\n",
       " q23             int64\n",
       " q24             int64\n",
       " q25             int64\n",
       " q26             int64\n",
       " q27             int64\n",
       " q28             int64\n",
       " q29             int64\n",
       " q30             int64\n",
       " q31             int64\n",
       " q32             int64\n",
       " q33             int64\n",
       " q34             int64\n",
       " q35             int64\n",
       " q36             int64\n",
       " q37             int64\n",
       " q38             int64\n",
       " q39             int64\n",
       " q40             int64\n",
       " q41             int64\n",
       " q42             int64\n",
       " q43             int64\n",
       " q44             int64\n",
       " introelapse     int64\n",
       " testelapse      int64\n",
       " country        object\n",
       " fromgoogle      int64\n",
       " engnat          int64\n",
       " age             int64\n",
       " education       int64\n",
       " gender          int64\n",
       " orientation     int64\n",
       " race            int64\n",
       " religion        int64\n",
       " hand            int64\n",
       " dtype: object,\n",
       " q1             0\n",
       " q2             0\n",
       " q3             0\n",
       " q4             0\n",
       " q5             0\n",
       " q6             0\n",
       " q7             0\n",
       " q8             0\n",
       " q9             0\n",
       " q10            0\n",
       " q11            0\n",
       " q12            0\n",
       " q13            0\n",
       " q14            0\n",
       " q15            0\n",
       " q16            0\n",
       " q17            0\n",
       " q18            0\n",
       " q19            0\n",
       " q20            0\n",
       " q21            0\n",
       " q22            0\n",
       " q23            0\n",
       " q24            0\n",
       " q25            0\n",
       " q26            0\n",
       " q27            0\n",
       " q28            0\n",
       " q29            0\n",
       " q30            0\n",
       " q31            0\n",
       " q32            0\n",
       " q33            0\n",
       " q34            0\n",
       " q35            0\n",
       " q36            0\n",
       " q37            0\n",
       " q38            0\n",
       " q39            0\n",
       " q40            0\n",
       " q41            0\n",
       " q42            0\n",
       " q43            0\n",
       " q44            0\n",
       " introelapse    0\n",
       " testelapse     0\n",
       " country        0\n",
       " fromgoogle     0\n",
       " engnat         0\n",
       " age            0\n",
       " education      0\n",
       " gender         0\n",
       " orientation    0\n",
       " race           0\n",
       " religion       0\n",
       " hand           0\n",
       " dtype: int64)"
      ]
     },
     "execution_count": 8,
     "metadata": {},
     "output_type": "execute_result"
    }
   ],
   "source": [
    "df.shape, df.dtypes, df.isnull().sum()"
   ]
  },
  {
   "cell_type": "code",
   "execution_count": 9,
   "id": "04885049",
   "metadata": {},
   "outputs": [],
   "source": [
    "df.drop(columns=['introelapse','testelapse','engnat','age','religion','country','fromgoogle'], inplace=True)"
   ]
  },
  {
   "cell_type": "code",
   "execution_count": 10,
   "id": "8ba10ebf",
   "metadata": {},
   "outputs": [
    {
     "data": {
      "text/plain": [
       "1    3542\n",
       "2     452\n",
       "3     179\n",
       "0      11\n",
       "Name: hand, dtype: int64"
      ]
     },
     "execution_count": 10,
     "metadata": {},
     "output_type": "execute_result"
    }
   ],
   "source": [
    "df['hand'].value_counts() "
   ]
  },
  {
   "cell_type": "markdown",
   "id": "d49d0386",
   "metadata": {},
   "source": [
    "1: right-handed | 2: left-handed | 3: both-handed | 0: -"
   ]
  },
  {
   "cell_type": "code",
   "execution_count": 11,
   "id": "66b0758a",
   "metadata": {},
   "outputs": [],
   "source": [
    "df = pd.get_dummies(data=df, columns=['hand'], drop_first=True)"
   ]
  },
  {
   "cell_type": "code",
   "execution_count": 12,
   "id": "d351b3df",
   "metadata": {},
   "outputs": [],
   "source": [
    "# I chose to combine Left and Both together\n",
    "# use left [1] <--> not left [0]\n",
    "df['left'] = df['hand_2'] + df['hand_3']"
   ]
  },
  {
   "cell_type": "code",
   "execution_count": 13,
   "id": "92e03864",
   "metadata": {},
   "outputs": [],
   "source": [
    "df.drop(columns=['hand_1','hand_2','hand_3','q43'], inplace=True)\n",
    "# q43 is the duplicate --> drop it"
   ]
  },
  {
   "cell_type": "code",
   "execution_count": 14,
   "id": "54d39e9d",
   "metadata": {},
   "outputs": [
    {
     "data": {
      "image/png": "[encoded data removed]",
      "text/plain": [
       "<Figure size 1080x720 with 2 Axes>"
      ]
     },
     "metadata": {
      "needs_background": "light"
     },
     "output_type": "display_data"
    }
   ],
   "source": [
    "plt.figure(figsize=(15,10))\n",
    "sns.heatmap(df.corr());"
   ]
  },
  {
   "cell_type": "markdown",
   "id": "bb26e657",
   "metadata": {},
   "source": [
    "### Calculate and interpret the baseline accuracy rate:"
   ]
  },
  {
   "cell_type": "code",
   "execution_count": 15,
   "id": "89ecc3c6",
   "metadata": {},
   "outputs": [
    {
     "data": {
      "text/plain": [
       "0.849"
      ]
     },
     "execution_count": 15,
     "metadata": {},
     "output_type": "execute_result"
    }
   ],
   "source": [
    "# Zero rule algorrithm \n",
    "# Not left-handed / All\n",
    "\n",
    "round(3542 / (3542+452+179),3)"
   ]
  },
  {
   "cell_type": "markdown",
   "id": "2016bb4e",
   "metadata": {},
   "source": [
    "### Short answer questions:\n",
    "\n",
    "In this lab you'll use K-nearest neighbors and logistic regression to model handedness based off of psychological factors. Answer the following related questions; your answers may be in bullet points.\n",
    "\n",
    "#### Describe the difference between regression and classification problems:"
   ]
  },
  {
   "cell_type": "markdown",
   "id": "5031f7f9",
   "metadata": {},
   "source": [
    "- regression helps predict a continuous quantity\n",
    "- classification predicts discrete class labels"
   ]
  },
  {
   "cell_type": "markdown",
   "id": "b7469aee",
   "metadata": {},
   "source": [
    "#### Considering $k$-nearest neighbors, describe the relationship between $k$ and the bias-variance tradeoff:"
   ]
  },
  {
   "cell_type": "markdown",
   "id": "0221547f",
   "metadata": {},
   "source": [
    "- As k increases --> variance [↓], bias [↑] \n",
    "- As k decreases --> bias [↓], variance [↓]"
   ]
  },
  {
   "cell_type": "markdown",
   "id": "7bdc66d6",
   "metadata": {},
   "source": [
    "#### Why do we often standardize predictor variables when using $k$-nearest neighbors?"
   ]
  },
  {
   "cell_type": "markdown",
   "id": "4ae39b38",
   "metadata": {},
   "source": [
    "$\\;\\;\\;\\;\\;\\;$ The goal of normalization is to change the values of numeric columns to use a common scale, without distorting differences in the ranges of values or losing information.\n",
    "\n",
    "Standardization --> rescales values in features col.(X) to have each column possess a mean ~ 0 and std ~ 1\n",
    "\n"
   ]
  },
  {
   "cell_type": "markdown",
   "id": "4ad52536",
   "metadata": {},
   "source": [
    "#### Do you think we should standardize the explanatory variables for this problem? Why or why not?"
   ]
  },
  {
   "cell_type": "markdown",
   "id": "ba817d9a",
   "metadata": {},
   "source": [
    "$\\;\\;\\;\\;\\;\\;$  It is always advisable to bring all the features to the same scale for applying distance based algorithms like KNN, but all features are ranged from 1-5 (on the same scale)"
   ]
  },
  {
   "cell_type": "markdown",
   "id": "1cf6e09f",
   "metadata": {},
   "source": [
    "#### How do we settle on $k$ for a $k$-nearest neighbors model?"
   ]
  },
  {
   "cell_type": "markdown",
   "id": "af2bc8c0",
   "metadata": {},
   "source": [
    "$\\;\\;\\;\\;\\;\\;$ The optimal K value usually found is the square root of N, where N is the total number of samples. Use an error plot or accuracy plot to find the most favorable K value."
   ]
  },
  {
   "cell_type": "markdown",
   "id": "958fe4a8",
   "metadata": {},
   "source": [
    "#### What is the default type of regularization for logistic regression as implemented in scikit-learn? (You might [check the documentation](https://scikit-learn.org/stable/modules/generated/sklearn.linear_model.LogisticRegression.html).)"
   ]
  },
  {
   "cell_type": "markdown",
   "id": "71f1f4d6",
   "metadata": {},
   "source": [
    "$\\;\\;\\;\\;\\;\\;$ L2 penalty or \"Ridge regression\" is set as default"
   ]
  },
  {
   "cell_type": "markdown",
   "id": "f4b117e3",
   "metadata": {},
   "source": [
    "#### Describe the relationship between the scikit-learn `LogisticRegression` argument `C` and regularization strength:"
   ]
  },
  {
   "cell_type": "markdown",
   "id": "49bfbfae",
   "metadata": {},
   "source": [
    "$\\;\\;\\;\\;\\;\\;$ C (default=1.0) is  an inverse of regularization strength (must be a positive float). C=1/alpha"
   ]
  },
  {
   "cell_type": "markdown",
   "id": "4f19a574",
   "metadata": {},
   "source": [
    "#### Describe the relationship between regularization strength and the bias-variance tradeoff:"
   ]
  },
  {
   "cell_type": "markdown",
   "id": "976d8363",
   "metadata": {},
   "source": [
    "Trade-off means you have to lose something to gain something\n",
    "- low-bias/high-variance model (overfitting) \n",
    "- high-bias/low-variance model (underfitting) \n",
    "\n",
    "What we do is to reach around middle ground where dependent variable \\\n",
    "are not influential in the final model."
   ]
  },
  {
   "cell_type": "markdown",
   "id": "7089674d",
   "metadata": {},
   "source": [
    "#### Logistic regression is considered more interpretable than $k$-nearest neighbors. Explain why."
   ]
  },
  {
   "cell_type": "markdown",
   "id": "6dddb94a",
   "metadata": {},
   "source": [
    "| KNN | LR | \n",
    "| --- | --- | \n",
    "| non-parametric model | parametric model |\n",
    "| supports non-linear solutions | supports only linear solutions |\n",
    "| can only output the labels | can derive confidence level |\n",
    "\n",
    "kNN isn't too hard to explain to a wide audience \\\n",
    "LogReg is for explaining relationships in a menaingful and actionable way"
   ]
  },
  {
   "cell_type": "markdown",
   "id": "00360fc0",
   "metadata": {},
   "source": [
    "---\n",
    "\n",
    "## Step 4 & 5 Modeling: $k$-nearest neighbors\n",
    "\n",
    "### Train-test split your data:\n",
    "\n",
    "Your explanatory variables should be "
   ]
  },
  {
   "cell_type": "code",
   "execution_count": 16,
   "id": "7239cca8",
   "metadata": {},
   "outputs": [],
   "source": [
    "X = df.drop(columns=['left'])\n",
    "y = df['left']\n",
    "X_train, X_test, y_train, y_test = train_test_split(X,y,random_state=69, stratify=y)\n",
    "# ---------------------------------------------------------------------------------- #\n",
    "# I'll scaled it anyway - teehee\n",
    "sc = StandardScaler()\n",
    "Z_train = sc.fit_transform(X_train)\n",
    "Z_test  = sc.transform(X_test)"
   ]
  },
  {
   "cell_type": "markdown",
   "id": "772f7e27",
   "metadata": {},
   "source": [
    "#### Create and fit four separate $k$-nearest neighbors models: one with $k = 3$, one with $k = 5$, one with $k = 15$, and one with $k = 25$:"
   ]
  },
  {
   "cell_type": "code",
   "execution_count": 17,
   "id": "4d95ec2b",
   "metadata": {},
   "outputs": [],
   "source": [
    "import warnings\n",
    "warnings.filterwarnings('ignore')\n",
    "from sklearn.neighbors import KNeighborsClassifier"
   ]
  },
  {
   "cell_type": "markdown",
   "id": "af301007",
   "metadata": {},
   "source": [
    "---"
   ]
  },
  {
   "cell_type": "code",
   "execution_count": 37,
   "id": "19e4639c",
   "metadata": {},
   "outputs": [],
   "source": [
    "k_scores =pd.DataFrame(columns=['k','train_score','test_score','pred_lt'])\n",
    "\n",
    "for n, k in enumerate([3,5,15,25]):\n",
    "    knn = KNeighborsClassifier(n_neighbors=k)\n",
    "    knn.fit(X_train, y_train)\n",
    "    y_pred = knn.predict(X_test)\n",
    "    minor_class = y_pred == 1\n",
    "    pred_lt = pd.Series(minor_class).sum()\n",
    "    train_score = knn.score(X_train,y_train)\n",
    "    test_score  = knn.score(X_test, y_test)\n",
    "    k_scores.loc[n] = [k, train_score,test_score, pred_lt]"
   ]
  },
  {
   "cell_type": "code",
   "execution_count": 38,
   "id": "5076eb2a",
   "metadata": {},
   "outputs": [
    {
     "data": {
      "text/html": [
       "<div>\n",
       "<style scoped>\n",
       "    .dataframe tbody tr th:only-of-type {\n",
       "        vertical-align: middle;\n",
       "    }\n",
       "\n",
       "    .dataframe tbody tr th {\n",
       "        vertical-align: top;\n",
       "    }\n",
       "\n",
       "    .dataframe thead th {\n",
       "        text-align: right;\n",
       "    }\n",
       "</style>\n",
       "<table border=\"1\" class=\"dataframe\">\n",
       "  <thead>\n",
       "    <tr style=\"text-align: right;\">\n",
       "      <th></th>\n",
       "      <th>k</th>\n",
       "      <th>train_score</th>\n",
       "      <th>test_score</th>\n",
       "      <th>pred_lt</th>\n",
       "    </tr>\n",
       "  </thead>\n",
       "  <tbody>\n",
       "    <tr>\n",
       "      <th>0</th>\n",
       "      <td>3.0</td>\n",
       "      <td>0.870937</td>\n",
       "      <td>0.797323</td>\n",
       "      <td>76.0</td>\n",
       "    </tr>\n",
       "    <tr>\n",
       "      <th>1</th>\n",
       "      <td>5.0</td>\n",
       "      <td>0.855003</td>\n",
       "      <td>0.820268</td>\n",
       "      <td>40.0</td>\n",
       "    </tr>\n",
       "    <tr>\n",
       "      <th>2</th>\n",
       "      <td>15.0</td>\n",
       "      <td>0.849267</td>\n",
       "      <td>0.847036</td>\n",
       "      <td>2.0</td>\n",
       "    </tr>\n",
       "    <tr>\n",
       "      <th>3</th>\n",
       "      <td>25.0</td>\n",
       "      <td>0.849267</td>\n",
       "      <td>0.848948</td>\n",
       "      <td>0.0</td>\n",
       "    </tr>\n",
       "  </tbody>\n",
       "</table>\n",
       "</div>"
      ],
      "text/plain": [
       "      k  train_score  test_score  pred_lt\n",
       "0   3.0     0.870937    0.797323     76.0\n",
       "1   5.0     0.855003    0.820268     40.0\n",
       "2  15.0     0.849267    0.847036      2.0\n",
       "3  25.0     0.849267    0.848948      0.0"
      ]
     },
     "execution_count": 38,
     "metadata": {},
     "output_type": "execute_result"
    }
   ],
   "source": [
    "k_scores"
   ]
  },
  {
   "cell_type": "code",
   "execution_count": 40,
   "id": "eb771212",
   "metadata": {},
   "outputs": [
    {
     "data": {
      "text/plain": [
       "0    970\n",
       "1     76\n",
       "dtype: int64"
      ]
     },
     "execution_count": 40,
     "metadata": {},
     "output_type": "execute_result"
    }
   ],
   "source": [
    "knn = KNeighborsClassifier(n_neighbors = 3)\n",
    "knn.fit(X_train, y_train)\n",
    "y_preds = knn.predict(X_test)\n",
    "pd.Series(y_preds).value_counts()"
   ]
  },
  {
   "cell_type": "code",
   "execution_count": 42,
   "id": "241070cc",
   "metadata": {},
   "outputs": [
    {
     "data": {
      "text/plain": [
       "array([[823,  65],\n",
       "       [147,  11]], dtype=int64)"
      ]
     },
     "execution_count": 42,
     "metadata": {},
     "output_type": "execute_result"
    }
   ],
   "source": [
    "from sklearn.metrics import confusion_matrix\n",
    "cm = confusion_matrix(y_test,y_preds)\n",
    "cm"
   ]
  },
  {
   "cell_type": "markdown",
   "id": "45c045e7",
   "metadata": {},
   "source": [
    "---"
   ]
  },
  {
   "cell_type": "code",
   "execution_count": 13,
   "id": "0eaa73e0",
   "metadata": {},
   "outputs": [
    {
     "name": "stdout",
     "output_type": "stream",
     "text": [
      " k = 3\n",
      " Training Score: 0.258\n",
      " Testing Score:  0.246\n"
     ]
    }
   ],
   "source": [
    "knn = KNeighborsClassifier(n_neighbors = 3)\n",
    "knn.fit(X_train, y_train)\n",
    "print(f' k = 3')\n",
    "print(f' Training Score: {round(knn.score(Z_train,y_train),3)}')\n",
    "print(f' Testing Score:  {round(knn.score(Z_test,y_test),3)}')"
   ]
  },
  {
   "cell_type": "code",
   "execution_count": 14,
   "id": "d47ff89b",
   "metadata": {},
   "outputs": [
    {
     "name": "stdout",
     "output_type": "stream",
     "text": [
      " k = 5\n",
      " Training Score: 0.443\n",
      " Testing Score:  0.417\n"
     ]
    }
   ],
   "source": [
    "knn = KNeighborsClassifier(n_neighbors = 5)\n",
    "knn.fit(X_train, y_train)\n",
    "print(f' k = 5')\n",
    "print(f' Training Score: {round(knn.score(Z_train,y_train),3)}')\n",
    "print(f' Testing Score:  {round(knn.score(Z_test,y_test),3)}')"
   ]
  },
  {
   "cell_type": "code",
   "execution_count": 15,
   "id": "4c586212",
   "metadata": {},
   "outputs": [
    {
     "name": "stdout",
     "output_type": "stream",
     "text": [
      " k = 15\n",
      " Training Score: 0.849\n",
      " Testing Score:  0.849\n"
     ]
    }
   ],
   "source": [
    "knn = KNeighborsClassifier(n_neighbors = 15)\n",
    "knn.fit(X_train, y_train)\n",
    "print(f' k = 15')\n",
    "print(f' Training Score: {round(knn.score(Z_train,y_train),3)}')\n",
    "print(f' Testing Score:  {round(knn.score(Z_test,y_test),3)}')"
   ]
  },
  {
   "cell_type": "code",
   "execution_count": 16,
   "id": "5186e2fc",
   "metadata": {},
   "outputs": [
    {
     "name": "stdout",
     "output_type": "stream",
     "text": [
      " k = 25\n",
      " Training Score: 0.849\n",
      " Testing Score:  0.849\n"
     ]
    }
   ],
   "source": [
    "knn = KNeighborsClassifier(n_neighbors = 25)\n",
    "knn.fit(X_train, y_train)\n",
    "print(f' k = 25')\n",
    "print(f' Training Score: {round(knn.score(Z_train,y_train),3)}')\n",
    "print(f' Testing Score:  {round(knn.score(Z_test,y_test),3)}')"
   ]
  },
  {
   "cell_type": "markdown",
   "id": "e0574103",
   "metadata": {},
   "source": [
    "|| k=3 | k=5 | k=15 | k=25 \n",
    "| --- | --- | --- | --- | --- | \n",
    "| Train Score: | 0.258 | 0.443 | 0.849| 0.849 |\n",
    "| Test Score: | 0.246 | 0.417 | 0.849 | 0.849 |"
   ]
  },
  {
   "cell_type": "markdown",
   "id": "6ea6f202",
   "metadata": {},
   "source": [
    "### Evaluate your models:\n",
    "\n",
    "Evaluate each of your four models on the training and testing sets, and interpret the four scores. Are any of your models overfit or underfit? Do any of your models beat the baseline accuracy rate?"
   ]
  },
  {
   "cell_type": "markdown",
   "id": "2df5f69d",
   "metadata": {},
   "source": [
    "- knn which k=3 and k=5 have higher train score than test score which indicate Overfitting\n",
    "- None of these model beats the baseline score"
   ]
  },
  {
   "cell_type": "markdown",
   "id": "49f4ea43",
   "metadata": {},
   "source": [
    "###### Options\n",
    "\n",
    "Addressing the class labal imbalance (switching k @ 91/10 split made no significant diff. in models predictive accuracy\n",
    "\n",
    "- Oversampling the minority class\n",
    "- Undersampling the majority class\n",
    "- a bit both: SMOTE --> Synthetic Minority Over-sampling Technique \\\n",
    "    - Algorithmically increase the number of your cases in your dataset in a more balanced way\n"
   ]
  },
  {
   "cell_type": "markdown",
   "id": "8488dc25",
   "metadata": {},
   "source": [
    "---\n",
    "\n",
    "## Step 4 & 5 Modeling: logistic regression\n",
    "\n",
    "#### Create and fit four separate logistic regression models: one with LASSO and $\\alpha = 1$, one with LASSO and $\\alpha = 10$, one with Ridge and $\\alpha = 1$, and one with Ridge and $\\alpha = 10$. *(Hint: Be careful with how you specify $\\alpha$ in your model!)*\n",
    "\n",
    "Note: You can use the same train and test data as above."
   ]
  },
  {
   "cell_type": "code",
   "execution_count": 17,
   "id": "fe96a2d4",
   "metadata": {},
   "outputs": [
    {
     "name": "stdout",
     "output_type": "stream",
     "text": [
      " Training Score: 0.847\n",
      " Testing Score:  0.849\n"
     ]
    }
   ],
   "source": [
    "#Lasso , alpha = 1\n",
    "logr = LogisticRegression(C=1, penalty='l1', solver='liblinear')\n",
    "logr.fit(Z_train, y_train)\n",
    "logr.fit(Z_test, y_test)\n",
    "print(f' Training Score: {round(logr.score(Z_train,y_train),3)}')\n",
    "print(f' Testing Score:  {round(logr.score(Z_test,y_test),3)}')"
   ]
  },
  {
   "cell_type": "code",
   "execution_count": 18,
   "id": "d37a8118",
   "metadata": {},
   "outputs": [
    {
     "name": "stdout",
     "output_type": "stream",
     "text": [
      " Training Score: 0.849\n",
      " Testing Score:  0.849\n"
     ]
    }
   ],
   "source": [
    "#Lasso , alpha = 10\n",
    "logr = LogisticRegression(C=0.1, penalty='l1', solver='liblinear')\n",
    "logr.fit(Z_train, y_train)\n",
    "logr.fit(Z_test, y_test)\n",
    "print(f' Training Score: {round(logr.score(Z_train,y_train),3)}')\n",
    "print(f' Testing Score:  {round(logr.score(Z_test,y_test),3)}')"
   ]
  },
  {
   "cell_type": "code",
   "execution_count": 19,
   "id": "1f64ba16",
   "metadata": {},
   "outputs": [
    {
     "name": "stdout",
     "output_type": "stream",
     "text": [
      " Training Score: 0.845\n",
      " Testing Score:  0.849\n"
     ]
    }
   ],
   "source": [
    "#Ridge , alpha = 1\n",
    "logr = LogisticRegression(C=1, penalty='l2', solver='saga')\n",
    "logr.fit(Z_train, y_train)\n",
    "logr.fit(Z_test, y_test)\n",
    "print(f' Training Score: {round(logr.score(Z_train,y_train),3)}')\n",
    "print(f' Testing Score:  {round(logr.score(Z_test,y_test),3)}')"
   ]
  },
  {
   "cell_type": "code",
   "execution_count": 20,
   "id": "eea14578",
   "metadata": {},
   "outputs": [
    {
     "name": "stdout",
     "output_type": "stream",
     "text": [
      " Training Score: 0.847\n",
      " Testing Score:  0.849\n"
     ]
    }
   ],
   "source": [
    "#Ridge , alpha = 10\n",
    "logr = LogisticRegression(C=0.1, penalty='l2', solver='saga')\n",
    "logr.fit(Z_train, y_train)\n",
    "logr.fit(Z_test, y_test)\n",
    "print(f' Training Score: {round(logr.score(Z_train,y_train),3)}')\n",
    "print(f' Testing Score:  {round(logr.score(Z_test,y_test),3)}')"
   ]
  },
  {
   "cell_type": "markdown",
   "id": "703eecea",
   "metadata": {},
   "source": [
    "### Evaluate your models:\n",
    "\n",
    "Evaluate each of your four models on the training and testing sets, and interpret the four scores. Are any of your models overfit or underfit? Do any of your models beat the baseline accuracy rate?"
   ]
  },
  {
   "cell_type": "markdown",
   "id": "9228606c",
   "metadata": {},
   "source": [
    "|| l1,α1 | l1,α10 | l2,α1 | l2,α10 | \n",
    "| --- | --- | --- | --- | --- | \n",
    "| Train Score: | 0.847 | 0.849 | 0.845 | 0.847 |\n",
    "| Test Score: | 0.849 |  0.849 | 0.849 | 0.849 |\n",
    "\n",
    "- All of them are underfit\n",
    "- All of then beat the baseline accuracy rate\n",
    "- l1 penalty with α=10 seem to be the best one among these four\n",
    "- None of these model beats baseline score\n"
   ]
  },
  {
   "cell_type": "markdown",
   "id": "e36a746e",
   "metadata": {},
   "source": [
    "---\n",
    "\n",
    "## Step 6: Answer the problem.\n",
    "\n",
    "Are any of your models worth moving forward with? What are the \"best\" models?"
   ]
  },
  {
   "cell_type": "markdown",
   "id": "0f7e0459",
   "metadata": {},
   "source": [
    "- None of these model worth moving forward with and should be tinkle a little bit more\n",
    "- The best model would be K-nearest neighbors with K(n_neighbors) = 15"
   ]
  }
 ],
 "metadata": {
  "kernelspec": {
   "display_name": "Python 3 (ipykernel)",
   "language": "python",
   "name": "python3"
  },
  "language_info": {
   "codemirror_mode": {
    "name": "ipython",
    "version": 3
   },
   "file_extension": ".py",
   "mimetype": "text/x-python",
   "name": "python",
   "nbconvert_exporter": "python",
   "pygments_lexer": "ipython3",
   "version": "3.9.12"
  }
 },
 "nbformat": 4,
 "nbformat_minor": 5
}
